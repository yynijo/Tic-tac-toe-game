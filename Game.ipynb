{
 "cells": [
  {
   "cell_type": "code",
   "execution_count": null,
   "metadata": {},
   "outputs": [],
   "source": [
    "from IPython.display import clear_output\n",
    "import random"
   ]
  },
  {
   "cell_type": "code",
   "execution_count": null,
   "metadata": {},
   "outputs": [],
   "source": [
    "def display_board(board: list) -> None:\n",
    "    clear_output()  # Clears the screen before displaying the board\n",
    "    for i in range(1, len(board), 3):\n",
    "        print(f\" {board[i]} | {board[i+1]} | {board[i+2]} \")\n",
    "        if i < 7:  # Add horizontal lines between rows\n",
    "            print(\"---|---|---\")"
   ]
  },
  {
   "cell_type": "code",
   "execution_count": null,
   "metadata": {},
   "outputs": [],
   "source": [
    "def player_input() -> tuple[str, str]:\n",
    "    while True:\n",
    "        # Ask user for input\n",
    "        print(\"Player 1: Enter X or O\")\n",
    "        user = input().upper()\n",
    "\n",
    "        # if valid input achieved, exit program\n",
    "        if user in ['X', 'O']:\n",
    "            return (\"X\",\"O\") if user == 'X' else (\"O\",\"X\")\n",
    "        #print invalid output & clear previous\n",
    "        else:\n",
    "            clear_output()\n",
    "            print(f\"Invalid input: {user}, please enter again\")"
   ]
  },
  {
   "cell_type": "code",
   "execution_count": null,
   "metadata": {},
   "outputs": [],
   "source": [
    "def place_marker(board: list, marker: str, position: int) -> None:\n",
    "    #place marker on board\n",
    "    board[position] = marker"
   ]
  },
  {
   "cell_type": "code",
   "execution_count": null,
   "metadata": {},
   "outputs": [],
   "source": [
    "def win_check(board:list , mark: str) -> bool:\n",
    "    #check win condition\n",
    "    return ((board[7] == mark and board[8] == mark and board[9] == mark) or # across the top\n",
    "    (board[4] == mark and board[5] == mark and board[6] == mark) or # across the middle\n",
    "    (board[1] == mark and board[2] == mark and board[3] == mark) or # across the bottom\n",
    "    (board[7] == mark and board[4] == mark and board[1] == mark) or # down the middle\n",
    "    (board[8] == mark and board[5] == mark and board[2] == mark) or # down the middle\n",
    "    (board[9] == mark and board[6] == mark and board[3] == mark) or # down the right side\n",
    "    (board[7] == mark and board[5] == mark and board[3] == mark) or # diagonal\n",
    "    (board[9] == mark and board[5] == mark and board[1] == mark)) # diagonal"
   ]
  },
  {
   "cell_type": "code",
   "execution_count": null,
   "metadata": {},
   "outputs": [],
   "source": [
    "def choose_first()->str:\n",
    "    if random.randint(0,1) == 0:\n",
    "        return \"Player 1\"\n",
    "    else:\n",
    "        return \"Player 2\""
   ]
  },
  {
   "cell_type": "code",
   "execution_count": null,
   "metadata": {},
   "outputs": [],
   "source": [
    "def space_check(board: list, position: int) -> bool:\n",
    "    return board[position] == ' '\n"
   ]
  },
  {
   "cell_type": "code",
   "execution_count": null,
   "metadata": {},
   "outputs": [],
   "source": [
    "def full_board_check(board: list) -> bool:\n",
    "    for i in range(1,10):\n",
    "        if space_check(board, i):\n",
    "            return False\n",
    "    return True"
   ]
  },
  {
   "cell_type": "code",
   "execution_count": null,
   "metadata": {},
   "outputs": [],
   "source": [
    "def player_choice(board):\n",
    "    position = 0\n",
    "\n",
    "    while position not in [1, 2, 3, 4, 5, 6, 7, 8, 9] or board[position] != ' ':\n",
    "        \n",
    "        #check for strings in case of invalid input\n",
    "        try:\n",
    "            position = int(input('Choose your next position: (1-9) '))\n",
    "        except ValueError:\n",
    "            print(\"Invalid input. Please enter a number between 1 and 9.\")\n",
    "            continue\n",
    "        \n",
    "        # invalid index given. input checking done here instead of place marker\n",
    "        if position not in range(1, 10):\n",
    "            print(\"Invalid position. Please select a number between 1 and 9.\")\n",
    "        elif board[position] != ' ':\n",
    "            print(\"Position already occupied. Choose another.\")\n",
    "        \n",
    "    return position"
   ]
  },
  {
   "cell_type": "code",
   "execution_count": null,
   "metadata": {},
   "outputs": [],
   "source": [
    "def replay() -> bool:\n",
    "    return input('Do you want to play again? Enter Yes or No: ').lower().startswith('y')"
   ]
  },
  {
   "cell_type": "code",
   "execution_count": null,
   "metadata": {},
   "outputs": [],
   "source": [
    "# Actual game\n",
    "print('Welcome to Tic Tac Toe!')\n",
    "# Initialize new test board\n",
    "play_board = [' '] * 10\n",
    "\n",
    "while True:\n",
    "    # Set game up\n",
    "    Turn = choose_first()\n",
    "    p1_marker,p2_marker = player_input()\n",
    "    print(Turn + ' goes first!')\n",
    "    \n",
    "    play_game = input('Are you ready to play? Enter Yes or No.')\n",
    "\n",
    "    if play_game.lower()[0] == 'y':\n",
    "        game_on = True\n",
    "    else:\n",
    "        game_on = False\n",
    "\n",
    "    #game start\n",
    "    while game_on:\n",
    "        if Turn == \"Player 1\":\n",
    "\n",
    "            # let player choose & place\n",
    "            display_board(play_board)\n",
    "            print(\"Player 1's turn\")\n",
    "            p1_choice = player_choice(play_board)\n",
    "            place_marker(play_board,p1_marker,p1_choice)\n",
    "\n",
    "            # check win con\n",
    "            if win_check(play_board,p1_marker):\n",
    "                display_board(play_board)\n",
    "                print('Player 1 has won!')\n",
    "                game_on = False\n",
    "            else:\n",
    "                if full_board_check(play_board):\n",
    "                    display_board(play_board)\n",
    "                    print(\"The game is a draw!\")\n",
    "                    game_on = False\n",
    "                else:\n",
    "                    Turn = \"Player 2\"\n",
    "        else:\n",
    "            # let player choose & place\n",
    "            display_board(play_board)\n",
    "            print(\"Player 2's turn\")\n",
    "            p2_choice = player_choice(play_board)\n",
    "            place_marker(play_board,p2_marker,p2_choice)\n",
    "\n",
    "            # check win con\n",
    "            if win_check(play_board,p1_marker):\n",
    "                display_board(play_board)\n",
    "                print('Player 2 has won!')\n",
    "                game_on = False\n",
    "            else:\n",
    "                if full_board_check(play_board):\n",
    "                    display_board(play_board)\n",
    "                    print(\"The game is a draw!\")\n",
    "                    game_on = False\n",
    "                else:\n",
    "                    Turn = \"Player 1\"       \n",
    "    if not replay():\n",
    "        break"
   ]
  }
 ],
 "metadata": {
  "language_info": {
   "name": "python"
  }
 },
 "nbformat": 4,
 "nbformat_minor": 2
}
